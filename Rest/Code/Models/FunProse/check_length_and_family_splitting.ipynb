{
 "cells": [
  {
   "cell_type": "code",
   "execution_count": 3,
   "metadata": {},
   "outputs": [],
   "source": [
    "import pickle\n",
    "with open(\"../../../Data/Processed/XY_formats/One_hot_encoded_up_down_multi_pytorch.pkl\", \"rb\") as f:\n",
    "    xy_dict = pickle.load(f)"
   ]
  },
  {
   "cell_type": "code",
   "execution_count": 22,
   "metadata": {},
   "outputs": [
    {
     "name": "stdout",
     "output_type": "stream",
     "text": [
      "143745\n"
     ]
    }
   ],
   "source": [
    "print(len(xy_dict))"
   ]
  },
  {
   "cell_type": "code",
   "execution_count": 9,
   "metadata": {},
   "outputs": [
    {
     "name": "stdout",
     "output_type": "stream",
     "text": [
      "(1, 4001, 4)\n"
     ]
    }
   ],
   "source": [
    "print(xy_dict[0][0][0].shape)"
   ]
  },
  {
   "cell_type": "code",
   "execution_count": 11,
   "metadata": {},
   "outputs": [],
   "source": [
    "import numpy as np\n",
    "gene_names = np.load(\"../../../Data/Processed/XY_formats/gene_names_one_hot.npy\")"
   ]
  },
  {
   "cell_type": "code",
   "execution_count": 20,
   "metadata": {},
   "outputs": [
    {
     "name": "stdout",
     "output_type": "stream",
     "text": [
      "143745\n"
     ]
    }
   ],
   "source": [
    "print(len(gene_names))"
   ]
  },
  {
   "cell_type": "code",
   "execution_count": 12,
   "metadata": {},
   "outputs": [],
   "source": [
    "def family_wise_train_test_splitting(\n",
    "    gene_families: np.array, test_size=0.2, random_state=42\n",
    "):\n",
    "    \"\"\"\n",
    "    Split the data into training and testing sets, ensuring that the gene families are not split between the two sets.\n",
    "\n",
    "    gene_families: The gene families\n",
    "    test_size: The proportion of the data to be used as the test set\n",
    "    random_state: The random state for the shuffle split\n",
    "    ---\n",
    "\n",
    "    returns: Training and test indices\n",
    "\n",
    "    \"\"\"\n",
    "\n",
    "    X = np.zeros(shape=(len(gene_families), 1))\n",
    "    Y = np.zeros(shape=(len(gene_families), 1))\n",
    "\n",
    "    # Create the split\n",
    "    gss = GroupShuffleSplit(n_splits=1, test_size=test_size, random_state=random_state)\n",
    "\n",
    "    # Split the data\n",
    "    train_index, test_index = next(gss.split(X, Y, groups=gene_families))\n",
    "\n",
    "    # assert no family is present in both sets\n",
    "    assert (\n",
    "        len(\n",
    "            set(gene_families[train_index]).intersection(set(gene_families[test_index]))\n",
    "        )\n",
    "        == 0\n",
    "    )\n",
    "\n",
    "    # Return the split data indices\n",
    "    return train_index, test_index"
   ]
  },
  {
   "cell_type": "code",
   "execution_count": 15,
   "metadata": {},
   "outputs": [],
   "source": [
    "import pandas as pd\n",
    "from sklearn.model_selection import GroupShuffleSplit, GroupKFold\n",
    "X_sequence = np.array(\n",
    "    [xy_dict[gene][0][0].T for gene in xy_dict]\n",
    ").squeeze()  # [random_index]\n",
    "X_treatment = np.array([xy_dict[gene][0][1] for gene in xy_dict])  # [random_index]\n",
    "Y = np.array([xy_dict[gene][1] for gene in xy_dict])  # [random_index]\n",
    "\n",
    "# Get family names per gene\n",
    "# load gene families\n",
    "gene_families = pd.read_csv(\"../../../Data/Processed/gene_families.csv\", index_col=1)\n",
    "\n",
    "# Map gene names to family names\n",
    "# I cannot use a dictionary because the genes are repeated 5 times, eachper treatment\n",
    "# I will use a list instead\n",
    "family_names = []\n",
    "for gene in gene_names:\n",
    "    family_names.append(gene_families.loc[gene, \"family_id\"])\n",
    "\n",
    "\n",
    "# Split the data\n",
    "#test 1\n",
    "#test1 2\n",
    "# train_index, test_index = family_wise_train_test_splitting(X_treatment, Y, np.array(family_names)[random_index], random_state = 7215, return_index=True)\n",
    "train_index, test_index = family_wise_train_test_splitting(\n",
    "     np.array(family_names), random_state=3\n",
    ")"
   ]
  },
  {
   "cell_type": "code",
   "execution_count": 16,
   "metadata": {},
   "outputs": [],
   "source": [
    "train_index, val_index = family_wise_train_test_splitting(\n",
    "    np.array(family_names)[train_index],\n",
    "    random_state=4,\n",
    "    test_size=0.3,\n",
    ")"
   ]
  },
  {
   "cell_type": "code",
   "execution_count": 17,
   "metadata": {},
   "outputs": [],
   "source": [
    "X_train_sequence = X_sequence[train_index]\n",
    "X_test_sequence = X_sequence[test_index]\n",
    "X_train_treatment = X_treatment[train_index]\n",
    "X_test_treatment = X_treatment[test_index]\n",
    "Y_train = Y[train_index]\n",
    "Y_test = Y[test_index]\n",
    "X_val_sequence = X_sequence[val_index]\n",
    "X_val_treatment = X_treatment[val_index]\n",
    "Y_val = Y[val_index]"
   ]
  },
  {
   "cell_type": "code",
   "execution_count": 18,
   "metadata": {},
   "outputs": [
    {
     "name": "stdout",
     "output_type": "stream",
     "text": [
      "(83470, 4, 4001)\n"
     ]
    }
   ],
   "source": [
    "print(X_train_sequence.shape)"
   ]
  }
 ],
 "metadata": {
  "kernelspec": {
   "display_name": "Python 3",
   "language": "python",
   "name": "python3"
  },
  "language_info": {
   "codemirror_mode": {
    "name": "ipython",
    "version": 3
   },
   "file_extension": ".py",
   "mimetype": "text/x-python",
   "name": "python",
   "nbconvert_exporter": "python",
   "pygments_lexer": "ipython3",
   "version": "3.9.19"
  }
 },
 "nbformat": 4,
 "nbformat_minor": 2
}
